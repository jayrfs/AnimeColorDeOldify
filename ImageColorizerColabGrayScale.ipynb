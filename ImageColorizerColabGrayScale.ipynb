{
  "cells": [
    {
      "cell_type": "markdown",
      "metadata": {
        "id": "view-in-github",
        "colab_type": "text"
      },
      "source": [
        "<a href=\"https://colab.research.google.com/github/jayrfs/AnimeColorDeOldify/blob/master/ImageColorizerColabGrayScale.ipynb\" target=\"_parent\"><img src=\"https://colab.research.google.com/assets/colab-badge.svg\" alt=\"Open In Colab\"/></a>"
      ]
    },
    {
      "cell_type": "markdown",
      "metadata": {
        "id": "pv88vHA_RBm5"
      },
      "source": [
        "### **<font color='blue'> Artistic Colorizer </font>**"
      ]
    },
    {
      "cell_type": "markdown",
      "metadata": {
        "id": "663IVxfrpIAb"
      },
      "source": [
        "#◢ DeOldify - Colorize your own photos!\n",
        "\n",
        "####**Credits:**\n",
        "\n",
        "Special thanks to:\n",
        "\n",
        "Jason Antic for creating the DeOldify for training and inferencing. \n",
        "\n",
        "Matt Robinson and María Benavente for pioneering the DeOldify image colab notebook.  \n",
        "\n",
        "Dana Kelley for doing things, breaking stuff & having an opinion on everything."
      ]
    },
    {
      "cell_type": "markdown",
      "metadata": {
        "id": "ZjPqTBNoohK9"
      },
      "source": [
        "\n",
        "\n",
        "---\n",
        "\n",
        "\n",
        "#◢ Verify Correct Runtime Settings\n",
        "\n",
        "**<font color='#FF000'> IMPORTANT </font>**\n",
        "\n",
        "In the \"Runtime\" menu for the notebook window, select \"Change runtime type.\" Ensure that the following are selected:\n",
        "* Runtime Type = Python 3\n",
        "* Hardware Accelerator = GPU \n"
      ]
    },
    {
      "cell_type": "code",
      "execution_count": null,
      "metadata": {
        "id": "00_GcC_trpdE"
      },
      "outputs": [],
      "source": [
        "import torch\n",
        "\n",
        "if not torch.cuda.is_available():\n",
        "    print('GPU not available.')"
      ]
    },
    {
      "cell_type": "markdown",
      "metadata": {
        "id": "gaEJBGDlptEo"
      },
      "source": [
        "#◢ Git clone and install DeOldify"
      ]
    },
    {
      "cell_type": "code",
      "execution_count": null,
      "metadata": {
        "id": "-T-svuHytJ-8"
      },
      "outputs": [],
      "source": [
        "!git clone https://github.com/jayrfs/AnimeColorDeOldify DeOldify "
      ]
    },
    {
      "cell_type": "code",
      "execution_count": null,
      "metadata": {
        "id": "QvKOHkCtRBnK"
      },
      "outputs": [],
      "source": [
        "cd DeOldify"
      ]
    },
    {
      "cell_type": "markdown",
      "metadata": {
        "id": "BDFjbNxaadNJ"
      },
      "source": [
        "#◢ Setup"
      ]
    },
    {
      "cell_type": "code",
      "execution_count": null,
      "metadata": {
        "id": "Lsx7xCXNSVt6"
      },
      "outputs": [],
      "source": [
        "!pip install -r colab_requirements.txt"
      ]
    },
    {
      "cell_type": "code",
      "execution_count": null,
      "metadata": {
        "id": "MsJa69CMwj3l"
      },
      "outputs": [],
      "source": [
        "import fastai\n",
        "import os\n",
        "from deoldify.visualize import *\n",
        "\n",
        "torch.backends.cudnn.benchmark = True"
      ]
    },
    {
      "cell_type": "code",
      "execution_count": null,
      "metadata": {
        "id": "TfUuhe2oRBnU"
      },
      "outputs": [],
      "source": [
        "!mkdir 'models'\n",
        "!wget https://www.dropbox.com/s/ojrwwsre1gt6sfx/UDLVQJgsv5RwrTkVWAhS9LrdGDFzdbuN2SFxCFsZ.pth?dl=0 -O ./models/ColorizeArtistic_gen.pth"
      ]
    },
    {
      "cell_type": "code",
      "execution_count": null,
      "metadata": {
        "id": "LQigt1yrRBnX"
      },
      "outputs": [],
      "source": [
        "stats = ([0.7137, 0.6628, 0.6519],[0.2970, 0.3017, 0.2979])"
      ]
    },
    {
      "cell_type": "code",
      "execution_count": null,
      "metadata": {
        "id": "tzHVnegp21hC"
      },
      "outputs": [],
      "source": [
        "colorizer = get_image_colorizer(artistic=True,stats=stats)"
      ]
    },
    {
      "cell_type": "markdown",
      "metadata": {
        "id": "S8eszvlKRBnc"
      },
      "source": [
        "#◢ Instructions"
      ]
    },
    {
      "cell_type": "markdown",
      "metadata": {
        "id": "GCTX7rh8RBnc"
      },
      "source": [
        "### source_url\n",
        "Type in a url to a direct link of an image.  Usually that means they'll end in .png, .jpg, etc. NOTE: If you want to use your own image, upload it first to a site like Imgur. \n",
        "\n",
        "### render_factor\n",
        "The default value of 12 has been carefully chosen and should work -ok- for most scenarios (but probably won't be the -best-). This determines resolution at which the color portion of the image is rendered. Lower resolution will render faster, and colors also tend to look more vibrant. Older and lower quality images in particular will generally benefit by lowering the render factor. Higher render factors are often better for higher quality images, but the colors may get slightly washed out. \n",
        "\n",
        "### watermarked\n",
        "Selected by default, this places a watermark icon of a palette at the bottom left corner of the image.  This is intended to be a standard way to convey to others viewing the image that it is colorized by AI. We want to help promote this as a standard, especially as the technology continues to improve and the distinction between real and fake becomes harder to discern. This palette watermark practice was initiated and lead by the company MyHeritage in the MyHeritage In Color feature (which uses a newer version of DeOldify than what you're using here).\n",
        "\n",
        "### post_process\n",
        "Selected by default, this outputs the image without being postprocessed. The post processing usually works really well for images that contain some shading, however it does not work for images that are mainly line drawings (sketches). It is recommended to turn this off, if you are colorising a sketch. \n",
        "\n",
        "#### How to Download a Copy\n",
        "Simply right click on the displayed image and click \"Save image as...\"!\n",
        "\n",
        "## Pro Tips\n",
        "\n",
        "You can evaluate how well the image is rendered at each render_factor by using the code at the bottom (that cell under \"See how well render_factor values perform on a frame here\"). \n",
        "\n",
        "## Troubleshooting\n",
        "If you get a 'CUDA out of memory' error, you probably have the render_factor too high."
      ]
    },
    {
      "cell_type": "markdown",
      "metadata": {
        "id": "sUQrbSYipiJn"
      },
      "source": [
        "#◢ Colorize!!"
      ]
    },
    {
      "cell_type": "code",
      "execution_count": null,
      "metadata": {
        "colab": {
          "base_uri": "https://localhost:8080/"
        },
        "id": "uho4oNTCYi1i",
        "outputId": "60368e71-bea1-45c3-d879-92cb1b7c48dc"
      },
      "outputs": [
        {
          "name": "stdout",
          "output_type": "stream",
          "text": [
            "Mounted at /gdrive\n"
          ]
        }
      ],
      "source": [
        "from google.colab import drive\n",
        "drive.mount('/gdrive')"
      ]
    },
    {
      "cell_type": "code",
      "execution_count": null,
      "metadata": {
        "colab": {
          "base_uri": "https://localhost:8080/"
        },
        "id": "OQPNXZ6jao0c",
        "outputId": "4bc87e19-656c-4bcd-c6fe-adc442340739"
      },
      "outputs": [
        {
          "name": "stdout",
          "output_type": "stream",
          "text": [
            "['/content/DeOldify/test_images/image.png', '/content/DeOldify/test_images/1.jpg', '/content/DeOldify/test_images/3916_.png', '/content/DeOldify/test_images/2_.png', '/content/DeOldify/test_images/1134_.png', '/content/DeOldify/test_images/0_.png', '/content/DeOldify/test_images/1137_.png', '/content/DeOldify/test_images/4.png', '/content/DeOldify/test_images/2940188.jpg', '/content/DeOldify/test_images/3.png', '/content/DeOldify/test_images/3.jpg', '/content/DeOldify/test_images/3931_.png', '/content/DeOldify/test_images/14_.png', '/content/DeOldify/test_images/2.png', '/content/DeOldify/test_images/img.jpg', '/content/DeOldify/test_images/3902_.png', '/content/DeOldify/test_images/9_.png', '/content/DeOldify/test_images/4_.png', '/content/DeOldify/test_images/2.jpg', '/content/DeOldify/test_images/7032_.png', '/content/DeOldify/test_images/36_.png', '/content/DeOldify/test_images/5695_.png', '/content/DeOldify/test_images/5694_.png', '/content/DeOldify/test_images/sketch/0_.png', '/content/DeOldify/test_images/sketch/img2.jpg', '/content/DeOldify/test_images/sketch/sample.jpg', '/content/DeOldify/test_images/sketch/9_.png', '/content/DeOldify/test_images/sketch/4_.png', '/content/DeOldify/test_images/sketch/7032_.png', '/content/DeOldify/test_images/sketch/36_.png', '/content/DeOldify/test_images/sketch/5695_.png', '/content/DeOldify/test_images/sketch/5694_.png']\n"
          ]
        }
      ],
      "source": [
        "list_of_files = []\n",
        "\n",
        "for subdir, dirs, files in os.walk(\"/content/DeOldify/test_images/\"):\n",
        "    for file in files:\n",
        "        list_of_files.append((os.path.join(subdir, file)))\n"
      ]
    },
    {
      "cell_type": "code",
      "execution_count": null,
      "metadata": {
        "id": "wjQ6YxunZp3Z"
      },
      "outputs": [],
      "source": [
        "render_factor = 12 #@param {type:\"slider\", min:7, max:45, step:1}\n",
        "watermarked = False #@param {type:\"boolean\"}\n",
        "\n",
        "for thing in list_of_files:\n",
        "    result_path = colorizer.plot_transformed_image(path=thing, render_factor=render_factor,compare=True, post_process=True, watermarked=watermarked)\n",
        "    print(f\"{thing} processed\")"
      ]
    },
    {
      "cell_type": "code",
      "execution_count": null,
      "metadata": {
        "id": "rugxUYFRYpUx"
      },
      "outputs": [],
      "source": [
        " !zip -r output.zip /content/DeOldify/result_images/"
      ]
    },
    {
      "cell_type": "code",
      "execution_count": null,
      "metadata": {
        "id": "-8ZUdVtaYi1k"
      },
      "outputs": [],
      "source": [
        "!mv 'output.zip' '/gdrive/My Drive/'"
      ]
    }
  ],
  "metadata": {
    "accelerator": "GPU",
    "colab": {
      "provenance": [],
      "include_colab_link": true
    },
    "kernelspec": {
      "display_name": "Python 3",
      "name": "python3"
    },
    "language_info": {
      "codemirror_mode": {
        "name": "ipython",
        "version": 3
      },
      "file_extension": ".py",
      "mimetype": "text/x-python",
      "name": "python",
      "nbconvert_exporter": "python",
      "pygments_lexer": "ipython3",
      "version": "3.7.6"
    }
  },
  "nbformat": 4,
  "nbformat_minor": 0
}